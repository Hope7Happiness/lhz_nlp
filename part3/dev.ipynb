{
 "cells": [
  {
   "cell_type": "code",
   "execution_count": 1,
   "metadata": {},
   "outputs": [
    {
     "name": "stdout",
     "output_type": "stream",
     "text": [
      "Fri Nov 15 20:25:53 2024       \n",
      "+---------------------------------------------------------------------------------------+\n",
      "| NVIDIA-SMI 535.86.10              Driver Version: 535.86.10    CUDA Version: 12.2     |\n",
      "|-----------------------------------------+----------------------+----------------------+\n",
      "| GPU  Name                 Persistence-M | Bus-Id        Disp.A | Volatile Uncorr. ECC |\n",
      "| Fan  Temp   Perf          Pwr:Usage/Cap |         Memory-Usage | GPU-Util  Compute M. |\n",
      "|                                         |                      |               MIG M. |\n",
      "|=========================================+======================+======================|\n",
      "|   0  Tesla V100-SXM2-32GB           On  | 00000004:04:00.0 Off |                    0 |\n",
      "| N/A   39C    P0              39W / 184W |      0MiB / 32768MiB |      0%      Default |\n",
      "|                                         |                      |                  N/A |\n",
      "+-----------------------------------------+----------------------+----------------------+\n",
      "|   1  Tesla V100-SXM2-32GB           On  | 00000004:05:00.0 Off |                    0 |\n",
      "| N/A   41C    P0              39W / 184W |      0MiB / 32768MiB |      0%      Default |\n",
      "|                                         |                      |                  N/A |\n",
      "+-----------------------------------------+----------------------+----------------------+\n",
      "|   2  Tesla V100-SXM2-32GB           On  | 00000035:03:00.0 Off |                    0 |\n",
      "| N/A   40C    P0              41W / 184W |      5MiB / 32768MiB |      0%      Default |\n",
      "|                                         |                      |                  N/A |\n",
      "+-----------------------------------------+----------------------+----------------------+\n",
      "|   3  Tesla V100-SXM2-32GB           On  | 00000035:04:00.0 Off |                    0 |\n",
      "| N/A   42C    P0              40W / 184W |      2MiB / 32768MiB |      0%      Default |\n",
      "|                                         |                      |                  N/A |\n",
      "+-----------------------------------------+----------------------+----------------------+\n",
      "                                                                                         \n",
      "+---------------------------------------------------------------------------------------+\n",
      "| Processes:                                                                            |\n",
      "|  GPU   GI   CI        PID   Type   Process name                            GPU Memory |\n",
      "|        ID   ID                                                             Usage      |\n",
      "|=======================================================================================|\n",
      "|  No running processes found                                                           |\n",
      "+---------------------------------------------------------------------------------------+\n"
     ]
    }
   ],
   "source": [
    "!nvidia-smi"
   ]
  },
  {
   "cell_type": "code",
   "execution_count": 2,
   "metadata": {},
   "outputs": [
    {
     "name": "stdout",
     "output_type": "stream",
     "text": [
      "Last modified: output_rnn_0.5_5000000\n"
     ]
    },
    {
     "ename": "Exception",
     "evalue": "Last modified time: 2024-11-15 20:21:35, current time: 2024-11-15 20:26:09.197026",
     "output_type": "error",
     "traceback": [
      "\u001b[0;31m---------------------------------------------------------------------------\u001b[0m",
      "\u001b[0;31mException\u001b[0m                                 Traceback (most recent call last)",
      "\u001b[0;32m/tmp/ipykernel_507679/4216412530.py\u001b[0m in \u001b[0;36m<module>\u001b[0;34m\u001b[0m\n\u001b[1;32m     14\u001b[0m \u001b[0mtime_diff\u001b[0m \u001b[0;34m=\u001b[0m \u001b[0mcurrent_time\u001b[0m \u001b[0;34m-\u001b[0m \u001b[0mlast_modified_time\u001b[0m\u001b[0;34m\u001b[0m\u001b[0;34m\u001b[0m\u001b[0m\n\u001b[1;32m     15\u001b[0m \u001b[0;32mif\u001b[0m \u001b[0mtime_diff\u001b[0m\u001b[0;34m.\u001b[0m\u001b[0mseconds\u001b[0m \u001b[0;34m/\u001b[0m \u001b[0;36m60\u001b[0m \u001b[0;34m>\u001b[0m \u001b[0;36m1\u001b[0m\u001b[0;34m:\u001b[0m\u001b[0;34m\u001b[0m\u001b[0;34m\u001b[0m\u001b[0m\n\u001b[0;32m---> 16\u001b[0;31m     \u001b[0;32mraise\u001b[0m \u001b[0mException\u001b[0m\u001b[0;34m(\u001b[0m\u001b[0;34mf\"Last modified time: {last_modified_time}, current time: {current_time}\"\u001b[0m\u001b[0;34m)\u001b[0m\u001b[0;34m\u001b[0m\u001b[0;34m\u001b[0m\u001b[0m\n\u001b[0m",
      "\u001b[0;31mException\u001b[0m: Last modified time: 2024-11-15 20:21:35, current time: 2024-11-15 20:26:09.197026"
     ]
    }
   ],
   "source": [
    "# check the last modified time of os.listdir('.)\n",
    "import os\n",
    "import time\n",
    "times = []\n",
    "for file in os.listdir('.'):\n",
    "    times.append((file, time.ctime(os.path.getmtime(file))))\n",
    "last_modified = max(times, key=lambda x: x[1])\n",
    "print('Last modified:', last_modified[0])\n",
    "\n",
    "# check whether the last modified time is within the last 1 minutes\n",
    "from datetime import datetime\n",
    "last_modified_time = datetime.strptime(last_modified[1], \"%a %b %d %H:%M:%S %Y\")\n",
    "current_time = datetime.now()\n",
    "time_diff = current_time - last_modified_time\n",
    "if time_diff.seconds / 60 > 1:\n",
    "    raise Exception(f\"Last modified time: {last_modified_time}, current time: {current_time}\")"
   ]
  },
  {
   "cell_type": "markdown",
   "metadata": {},
   "source": [
    "# Gen data"
   ]
  },
  {
   "cell_type": "code",
   "execution_count": 3,
   "metadata": {},
   "outputs": [
    {
     "ename": "AssertionError",
     "evalue": "",
     "output_type": "error",
     "traceback": [
      "\u001b[0;31m---------------------------------------------------------------------------\u001b[0m",
      "\u001b[0;31mAssertionError\u001b[0m                            Traceback (most recent call last)",
      "\u001b[0;32m/tmp/ipykernel_507679/2103537015.py\u001b[0m in \u001b[0;36m<module>\u001b[0;34m\u001b[0m\n\u001b[0;32m----> 1\u001b[0;31m \u001b[0;32massert\u001b[0m \u001b[0;32mFalse\u001b[0m\u001b[0;34m\u001b[0m\u001b[0;34m\u001b[0m\u001b[0m\n\u001b[0m",
      "\u001b[0;31mAssertionError\u001b[0m: "
     ]
    }
   ],
   "source": [
    "assert False"
   ]
  },
  {
   "cell_type": "code",
   "execution_count": 11,
   "metadata": {},
   "outputs": [
    {
     "name": "stdout",
     "output_type": "stream",
     "text": [
      "bash gen.sh\n",
      "100%|███████████████████████████████| 1000000/1000000 [02:55<00:00, 5694.92it/s]\n",
      "100%|███████████████████████████████| 1000000/1000000 [13:23<00:00, 1245.10it/s]\n",
      "100%|███████████████████████████████| 1000000/1000000 [03:16<00:00, 5088.34it/s]\n",
      "100%|█████████████████████████████████████| 5000/5000 [00:01<00:00, 4343.17it/s]\n",
      "100%|█████████████████████████████████████| 5000/5000 [00:04<00:00, 1247.48it/s]\n",
      "100%|█████████████████████████████████████| 5000/5000 [00:00<00:00, 5031.79it/s]\n"
     ]
    }
   ],
   "source": [
    "!make gen"
   ]
  },
  {
   "cell_type": "markdown",
   "metadata": {},
   "source": [
    "# Run RNN"
   ]
  },
  {
   "cell_type": "code",
   "execution_count": 5,
   "metadata": {},
   "outputs": [
    {
     "name": "stdout",
     "output_type": "stream",
     "text": [
      "bash train.sh rnn 0.5 5000000 0.0003 2048\n",
      "model_type: rnn\n",
      "dataset_dir: ./data/rnn/cot_binary_32_1000000_right\n",
      "output_dir: ./output_rnn_0.5_5000000\n",
      "model_config_path: ./configs/0.5m_transformer.json\n",
      "batch_size: 2048\n",
      "total_training_samples: 5000000\n",
      "lr: 0.0003\n",
      "None\n",
      "torch.Size([56, 64])\n",
      "Parameters: 0.26M\n",
      "model is: MambaLMHeadModel(\n",
      "  (backbone): MixerModel(\n",
      "    (embedding): Embedding(56, 64)\n",
      "    (layers): ModuleList(\n",
      "      (0): Block(\n",
      "        (norm): RMSNorm()\n",
      "        (mixer): Mamba(\n",
      "          (in_proj): Linear(in_features=64, out_features=256, bias=False)\n",
      "          (conv1d): Conv1d(128, 128, kernel_size=(4,), stride=(1,), padding=(3,), groups=128)\n",
      "          (act): SiLU()\n",
      "          (x_proj): Linear(in_features=128, out_features=36, bias=False)\n",
      "          (dt_proj): Linear(in_features=4, out_features=128, bias=True)\n",
      "          (out_proj): Linear(in_features=128, out_features=64, bias=False)\n",
      "        )\n",
      "      )\n",
      "      (1): Block(\n",
      "        (norm): RMSNorm()\n",
      "        (mixer): Mamba(\n",
      "          (in_proj): Linear(in_features=64, out_features=256, bias=False)\n",
      "          (conv1d): Conv1d(128, 128, kernel_size=(4,), stride=(1,), padding=(3,), groups=128)\n",
      "          (act): SiLU()\n",
      "          (x_proj): Linear(in_features=128, out_features=36, bias=False)\n",
      "          (dt_proj): Linear(in_features=4, out_features=128, bias=True)\n",
      "          (out_proj): Linear(in_features=128, out_features=64, bias=False)\n",
      "        )\n",
      "      )\n",
      "      (2): Block(\n",
      "        (norm): RMSNorm()\n",
      "        (mixer): Mamba(\n",
      "          (in_proj): Linear(in_features=64, out_features=256, bias=False)\n",
      "          (conv1d): Conv1d(128, 128, kernel_size=(4,), stride=(1,), padding=(3,), groups=128)\n",
      "          (act): SiLU()\n",
      "          (x_proj): Linear(in_features=128, out_features=36, bias=False)\n",
      "          (dt_proj): Linear(in_features=4, out_features=128, bias=True)\n",
      "          (out_proj): Linear(in_features=128, out_features=64, bias=False)\n",
      "        )\n",
      "      )\n",
      "      (3): Block(\n",
      "        (norm): RMSNorm()\n",
      "        (mixer): Mamba(\n",
      "          (in_proj): Linear(in_features=64, out_features=256, bias=False)\n",
      "          (conv1d): Conv1d(128, 128, kernel_size=(4,), stride=(1,), padding=(3,), groups=128)\n",
      "          (act): SiLU()\n",
      "          (x_proj): Linear(in_features=128, out_features=36, bias=False)\n",
      "          (dt_proj): Linear(in_features=4, out_features=128, bias=True)\n",
      "          (out_proj): Linear(in_features=128, out_features=64, bias=False)\n",
      "        )\n",
      "      )\n",
      "      (4): Block(\n",
      "        (norm): RMSNorm()\n",
      "        (mixer): Mamba(\n",
      "          (in_proj): Linear(in_features=64, out_features=256, bias=False)\n",
      "          (conv1d): Conv1d(128, 128, kernel_size=(4,), stride=(1,), padding=(3,), groups=128)\n",
      "          (act): SiLU()\n",
      "          (x_proj): Linear(in_features=128, out_features=36, bias=False)\n",
      "          (dt_proj): Linear(in_features=4, out_features=128, bias=True)\n",
      "          (out_proj): Linear(in_features=128, out_features=64, bias=False)\n",
      "        )\n",
      "      )\n",
      "      (5): Block(\n",
      "        (norm): RMSNorm()\n",
      "        (mixer): Mamba(\n",
      "          (in_proj): Linear(in_features=64, out_features=256, bias=False)\n",
      "          (conv1d): Conv1d(128, 128, kernel_size=(4,), stride=(1,), padding=(3,), groups=128)\n",
      "          (act): SiLU()\n",
      "          (x_proj): Linear(in_features=128, out_features=36, bias=False)\n",
      "          (dt_proj): Linear(in_features=4, out_features=128, bias=True)\n",
      "          (out_proj): Linear(in_features=128, out_features=64, bias=False)\n",
      "        )\n",
      "      )\n",
      "      (6): Block(\n",
      "        (norm): RMSNorm()\n",
      "        (mixer): Mamba(\n",
      "          (in_proj): Linear(in_features=64, out_features=256, bias=False)\n",
      "          (conv1d): Conv1d(128, 128, kernel_size=(4,), stride=(1,), padding=(3,), groups=128)\n",
      "          (act): SiLU()\n",
      "          (x_proj): Linear(in_features=128, out_features=36, bias=False)\n",
      "          (dt_proj): Linear(in_features=4, out_features=128, bias=True)\n",
      "          (out_proj): Linear(in_features=128, out_features=64, bias=False)\n",
      "        )\n",
      "      )\n",
      "      (7): Block(\n",
      "        (norm): RMSNorm()\n",
      "        (mixer): Mamba(\n",
      "          (in_proj): Linear(in_features=64, out_features=256, bias=False)\n",
      "          (conv1d): Conv1d(128, 128, kernel_size=(4,), stride=(1,), padding=(3,), groups=128)\n",
      "          (act): SiLU()\n",
      "          (x_proj): Linear(in_features=128, out_features=36, bias=False)\n",
      "          (dt_proj): Linear(in_features=4, out_features=128, bias=True)\n",
      "          (out_proj): Linear(in_features=128, out_features=64, bias=False)\n",
      "        )\n",
      "      )\n",
      "    )\n",
      "    (norm_f): RMSNorm()\n",
      "  )\n",
      "  (lm_head): Linear(in_features=64, out_features=56, bias=False)\n",
      ")\n",
      "  0%|                                                     | 0/3 [00:00<?, ?it/s]/nobackup/users/zhh24/anaconda3/envs/DYY/lib/python3.7/site-packages/torch/nn/functional.py:1350: UserWarning: nn.functional.sigmoid is deprecated. Use torch.sigmoid instead.\n",
      "  warnings.warn(\"nn.functional.sigmoid is deprecated. Use torch.sigmoid instead.\")\n",
      "100%|█████████████████████████████████████████████| 3/3 [00:11<00:00,  3.80s/it]\n",
      "Initial | val loss: 15.995677947998047 | val acc: 0.0\n",
      "start training\n",
      "  0%|                                                  | 0/2441 [00:00<?, ?it/s]\n",
      "  0%|                                                     | 0/3 [00:00<?, ?it/s]\u001b[A\n",
      " 33%|███████████████                              | 1/3 [00:01<00:02,  1.07s/it]\u001b[A\n",
      " 67%|██████████████████████████████               | 2/3 [00:02<00:01,  1.06s/it]\u001b[A\n",
      "100%|█████████████████████████████████████████████| 3/3 [00:03<00:00,  1.05s/it]\u001b[A\n",
      "Step 0 | Samples 0 | Train acc: 0.0 | Val loss: 15.995677947998047 | Val acc: 0.0 | learning rate: 7.5e-05\n",
      "  2%|▋                                     | 45/2441 [17:29<15:26:21, 23.20s/it]^C\n"
     ]
    }
   ],
   "source": [
    "!make train_rnn_zhh_1"
   ]
  },
  {
   "cell_type": "code",
   "execution_count": 14,
   "metadata": {},
   "outputs": [
    {
     "name": "stdout",
     "output_type": "stream",
     "text": [
      "/nobackup/users/zhh24/anaconda3/envs/DYY/bin/python\n"
     ]
    }
   ],
   "source": [
    "!which python"
   ]
  },
  {
   "cell_type": "code",
   "execution_count": null,
   "metadata": {},
   "outputs": [],
   "source": []
  }
 ],
 "metadata": {
  "kernelspec": {
   "display_name": "Python 3 (ipykernel)",
   "language": "python",
   "name": "python3"
  },
  "language_info": {
   "codemirror_mode": {
    "name": "ipython",
    "version": 3
   },
   "file_extension": ".py",
   "mimetype": "text/x-python",
   "name": "python",
   "nbconvert_exporter": "python",
   "pygments_lexer": "ipython3",
   "version": "3.7.6"
  }
 },
 "nbformat": 4,
 "nbformat_minor": 2
}
