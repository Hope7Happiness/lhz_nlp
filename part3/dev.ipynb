{
 "cells": [
  {
   "cell_type": "code",
   "execution_count": 1,
   "metadata": {},
   "outputs": [
    {
     "name": "stdout",
     "output_type": "stream",
     "text": [
      "Sat Nov 16 09:17:20 2024       \n",
      "+---------------------------------------------------------------------------------------+\n",
      "| NVIDIA-SMI 535.86.10              Driver Version: 535.86.10    CUDA Version: 12.2     |\n",
      "|-----------------------------------------+----------------------+----------------------+\n",
      "| GPU  Name                 Persistence-M | Bus-Id        Disp.A | Volatile Uncorr. ECC |\n",
      "| Fan  Temp   Perf          Pwr:Usage/Cap |         Memory-Usage | GPU-Util  Compute M. |\n",
      "|                                         |                      |               MIG M. |\n",
      "|=========================================+======================+======================|\n",
      "|   0  Tesla V100-SXM2-32GB           On  | 00000004:04:00.0 Off |                    0 |\n",
      "| N/A   40C    P0              40W / 184W |      0MiB / 32768MiB |      0%      Default |\n",
      "|                                         |                      |                  N/A |\n",
      "+-----------------------------------------+----------------------+----------------------+\n",
      "|   1  Tesla V100-SXM2-32GB           On  | 00000004:05:00.0 Off |                    0 |\n",
      "| N/A   43C    P0              41W / 184W |      0MiB / 32768MiB |      0%      Default |\n",
      "|                                         |                      |                  N/A |\n",
      "+-----------------------------------------+----------------------+----------------------+\n",
      "|   2  Tesla V100-SXM2-32GB           On  | 00000035:03:00.0 Off |                    0 |\n",
      "| N/A   38C    P0              40W / 184W |      0MiB / 32768MiB |      0%      Default |\n",
      "|                                         |                      |                  N/A |\n",
      "+-----------------------------------------+----------------------+----------------------+\n",
      "|   3  Tesla V100-SXM2-32GB           On  | 00000035:04:00.0 Off |                    0 |\n",
      "| N/A   42C    P0              39W / 184W |      0MiB / 32768MiB |      0%      Default |\n",
      "|                                         |                      |                  N/A |\n",
      "+-----------------------------------------+----------------------+----------------------+\n",
      "                                                                                         \n",
      "+---------------------------------------------------------------------------------------+\n",
      "| Processes:                                                                            |\n",
      "|  GPU   GI   CI        PID   Type   Process name                            GPU Memory |\n",
      "|        ID   ID                                                             Usage      |\n",
      "|=======================================================================================|\n",
      "|  No running processes found                                                           |\n",
      "+---------------------------------------------------------------------------------------+\n"
     ]
    }
   ],
   "source": [
    "!nvidia-smi"
   ]
  },
  {
   "cell_type": "code",
   "execution_count": 2,
   "metadata": {},
   "outputs": [
    {
     "name": "stdout",
     "output_type": "stream",
     "text": [
      "Last modified: sync.sh\n"
     ]
    },
    {
     "ename": "Exception",
     "evalue": "Last modified time: 2024-11-15 23:44:49, current time: 2024-11-15 23:46:52.664623",
     "output_type": "error",
     "traceback": [
      "\u001b[0;31m---------------------------------------------------------------------------\u001b[0m",
      "\u001b[0;31mException\u001b[0m                                 Traceback (most recent call last)",
      "\u001b[0;32m/tmp/ipykernel_2791028/4216412530.py\u001b[0m in \u001b[0;36m<module>\u001b[0;34m\u001b[0m\n\u001b[1;32m     14\u001b[0m \u001b[0mtime_diff\u001b[0m \u001b[0;34m=\u001b[0m \u001b[0mcurrent_time\u001b[0m \u001b[0;34m-\u001b[0m \u001b[0mlast_modified_time\u001b[0m\u001b[0;34m\u001b[0m\u001b[0;34m\u001b[0m\u001b[0m\n\u001b[1;32m     15\u001b[0m \u001b[0;32mif\u001b[0m \u001b[0mtime_diff\u001b[0m\u001b[0;34m.\u001b[0m\u001b[0mseconds\u001b[0m \u001b[0;34m/\u001b[0m \u001b[0;36m60\u001b[0m \u001b[0;34m>\u001b[0m \u001b[0;36m1\u001b[0m\u001b[0;34m:\u001b[0m\u001b[0;34m\u001b[0m\u001b[0;34m\u001b[0m\u001b[0m\n\u001b[0;32m---> 16\u001b[0;31m     \u001b[0;32mraise\u001b[0m \u001b[0mException\u001b[0m\u001b[0;34m(\u001b[0m\u001b[0;34mf\"Last modified time: {last_modified_time}, current time: {current_time}\"\u001b[0m\u001b[0;34m)\u001b[0m\u001b[0;34m\u001b[0m\u001b[0;34m\u001b[0m\u001b[0m\n\u001b[0m",
      "\u001b[0;31mException\u001b[0m: Last modified time: 2024-11-15 23:44:49, current time: 2024-11-15 23:46:52.664623"
     ]
    }
   ],
   "source": [
    "# check the last modified time of os.listdir('.)\n",
    "import os\n",
    "import time\n",
    "times = []\n",
    "for file in os.listdir('.'):\n",
    "    times.append((file, time.ctime(os.path.getmtime(file))))\n",
    "last_modified = max(times, key=lambda x: x[1])\n",
    "print('Last modified:', last_modified[0])\n",
    "\n",
    "# check whether the last modified time is within the last 1 minutes\n",
    "from datetime import datetime\n",
    "last_modified_time = datetime.strptime(last_modified[1], \"%a %b %d %H:%M:%S %Y\")\n",
    "current_time = datetime.now()\n",
    "time_diff = current_time - last_modified_time\n",
    "if time_diff.seconds / 60 > 1:\n",
    "    raise Exception(f\"Last modified time: {last_modified_time}, current time: {current_time}\")"
   ]
  },
  {
   "cell_type": "markdown",
   "metadata": {},
   "source": [
    "# Gen data"
   ]
  },
  {
   "cell_type": "code",
   "execution_count": 3,
   "metadata": {},
   "outputs": [
    {
     "ename": "AssertionError",
     "evalue": "",
     "output_type": "error",
     "traceback": [
      "\u001b[0;31m---------------------------------------------------------------------------\u001b[0m",
      "\u001b[0;31mAssertionError\u001b[0m                            Traceback (most recent call last)",
      "\u001b[0;32m/tmp/ipykernel_507679/2103537015.py\u001b[0m in \u001b[0;36m<module>\u001b[0;34m\u001b[0m\n\u001b[0;32m----> 1\u001b[0;31m \u001b[0;32massert\u001b[0m \u001b[0;32mFalse\u001b[0m\u001b[0;34m\u001b[0m\u001b[0;34m\u001b[0m\u001b[0m\n\u001b[0m",
      "\u001b[0;31mAssertionError\u001b[0m: "
     ]
    }
   ],
   "source": [
    "assert False"
   ]
  },
  {
   "cell_type": "code",
   "execution_count": 11,
   "metadata": {},
   "outputs": [
    {
     "name": "stdout",
     "output_type": "stream",
     "text": [
      "bash gen.sh\n",
      "100%|███████████████████████████████| 1000000/1000000 [02:55<00:00, 5694.92it/s]\n",
      "100%|███████████████████████████████| 1000000/1000000 [13:23<00:00, 1245.10it/s]\n",
      "100%|███████████████████████████████| 1000000/1000000 [03:16<00:00, 5088.34it/s]\n",
      "100%|█████████████████████████████████████| 5000/5000 [00:01<00:00, 4343.17it/s]\n",
      "100%|█████████████████████████████████████| 5000/5000 [00:04<00:00, 1247.48it/s]\n",
      "100%|█████████████████████████████████████| 5000/5000 [00:00<00:00, 5031.79it/s]\n"
     ]
    }
   ],
   "source": [
    "!make gen"
   ]
  },
  {
   "cell_type": "markdown",
   "metadata": {},
   "source": [
    "# Run RNN"
   ]
  },
  {
   "cell_type": "code",
   "execution_count": null,
   "metadata": {},
   "outputs": [
    {
     "name": "stdout",
     "output_type": "stream",
     "text": [
      "bash train.sh transformer 0.5 5000000 0.0001 64\n",
      "model_type: transformer\n",
      "dataset_dir: ./data/rnn/cot_binary_32_1000000_right\n",
      "output_dir: ./output_transformer_0.5_5000000\n",
      "model_config_path: ./configs/0.5m_transformer.json\n",
      "batch_size: 64\n",
      "total_training_samples: 5000000\n",
      "lr: 0.0001\n",
      "The dataset start at index: 0\n",
      "The dataset start at index: 0\n",
      "tensor([[ 0.0000e+00,  1.0000e+00,  0.0000e+00,  ...,  1.0000e+00,\n",
      "          0.0000e+00,  1.0000e+00],\n",
      "        [ 8.4147e-01,  5.4030e-01,  6.8156e-01,  ...,  1.0000e+00,\n",
      "          1.3335e-04,  1.0000e+00],\n",
      "        [ 9.0930e-01, -4.1615e-01,  9.9748e-01,  ...,  1.0000e+00,\n",
      "          2.6670e-04,  1.0000e+00],\n",
      "        ...,\n",
      "        [ 9.0179e-01, -4.3218e-01,  6.2345e-02,  ...,  9.9997e-01,\n",
      "          6.1342e-03,  9.9998e-01],\n",
      "        [ 1.2357e-01, -9.9234e-01, -6.3461e-01,  ...,  9.9997e-01,\n",
      "          6.2675e-03,  9.9998e-01],\n",
      "        [-7.6825e-01, -6.4014e-01, -9.9112e-01,  ...,  9.9996e-01,\n",
      "          6.4009e-03,  9.9998e-01]])\n",
      "Parameters: 0.53M\n",
      "/nobackup/users/dcao2028/anaconda3/envs/ZHH/lib/python3.7/site-packages/torch/nn/parallel/_functions.py:61: UserWarning: Was asked to gather along dimension 0, but all input tensors were scalars; will instead unsqueeze and return a vector.\n",
      "  warnings.warn('Was asked to gather along dimension 0, but all '\n"
     ]
    }
   ],
   "source": [
    "!make train_transformer_sanity"
   ]
  },
  {
   "cell_type": "code",
   "execution_count": 14,
   "metadata": {},
   "outputs": [
    {
     "name": "stdout",
     "output_type": "stream",
     "text": [
      "/nobackup/users/zhh24/anaconda3/envs/DYY/bin/python\n"
     ]
    }
   ],
   "source": [
    "!which python"
   ]
  },
  {
   "cell_type": "markdown",
   "metadata": {},
   "source": [
    "# Run Eval"
   ]
  },
  {
   "cell_type": "code",
   "execution_count": 13,
   "metadata": {},
   "outputs": [
    {
     "name": "stdout",
     "output_type": "stream",
     "text": [
      "bash eval.sh transformer 0.5 /nobackup/users/dcao2028/zhh/staging/20241116__004716_LHZ_NLP_d7f2627-dirty/output_transformer_0.5_5000000/model_4884.pt 5000000\n",
      "model_type: transformer\n",
      "dataset_dir: ./data/rnn/cot_binary_32_1000000_right\n",
      "output_dir: ./output_transformer_0.5_5000000\n",
      "model_dir: ./output_transformer_0.5_5000000//nobackup/users/dcao2028/zhh/staging/20241116__004716_LHZ_NLP_d7f2627-dirty/output_transformer_0.5_5000000/model_4884.pt\n",
      "model_config_path: ./configs/0.5m_transformer.json\n",
      "batch_size: 1\n",
      "The dataset start at index: 0\n",
      "tensor([[ 0.0000e+00,  1.0000e+00,  0.0000e+00,  ...,  1.0000e+00,\n",
      "          0.0000e+00,  1.0000e+00],\n",
      "        [ 8.4147e-01,  5.4030e-01,  6.8156e-01,  ...,  1.0000e+00,\n",
      "          1.3335e-04,  1.0000e+00],\n",
      "        [ 9.0930e-01, -4.1615e-01,  9.9748e-01,  ...,  1.0000e+00,\n",
      "          2.6670e-04,  1.0000e+00],\n",
      "        ...,\n",
      "        [ 9.0179e-01, -4.3218e-01,  6.2345e-02,  ...,  9.9997e-01,\n",
      "          6.1342e-03,  9.9998e-01],\n",
      "        [ 1.2357e-01, -9.9234e-01, -6.3461e-01,  ...,  9.9997e-01,\n",
      "          6.2675e-03,  9.9998e-01],\n",
      "        [-7.6825e-01, -6.4014e-01, -9.9112e-01,  ...,  9.9996e-01,\n",
      "          6.4009e-03,  9.9998e-01]])\n",
      "Parameters: 0.53M\n",
      "^C\n",
      "Traceback (most recent call last):\n",
      "  File \"rnn/val.py\", line 213, in <module>\n",
      "    main()\n",
      "  File \"rnn/val.py\", line 201, in main\n",
      "    val_loss , val_acc = evaluate(model, val_loader, args, log_file)\n",
      "  File \"/nobackup/users/dcao2028/anaconda3/envs/ZHH/lib/python3.7/site-packages/torch/autograd/grad_mode.py\", line 49, in decorate_no_grad\n",
      "    return func(*args, **kwargs)\n",
      "  File \"rnn/val.py\", line 43, in evaluate\n",
      "    outputs = model(input_ids, attention_mask=attention_mask, labels=labels)\n",
      "  File \"/nobackup/users/dcao2028/anaconda3/envs/ZHH/lib/python3.7/site-packages/torch/nn/modules/module.py\", line 547, in __call__\n",
      "    result = self.forward(*input, **kwargs)\n",
      "  File \"/nobackup/users/dcao2028/anaconda3/envs/ZHH/lib/python3.7/site-packages/transformers/models/llama/modeling_llama.py\", line 705, in forward\n",
      "    return_dict=return_dict,\n",
      "  File \"/nobackup/users/dcao2028/anaconda3/envs/ZHH/lib/python3.7/site-packages/torch/nn/modules/module.py\", line 547, in __call__\n",
      "    result = self.forward(*input, **kwargs)\n",
      "  File \"/nobackup/users/dcao2028/anaconda3/envs/ZHH/lib/python3.7/site-packages/transformers/models/llama/modeling_llama.py\", line 592, in forward\n",
      "    use_cache=use_cache,\n",
      "  File \"/nobackup/users/dcao2028/anaconda3/envs/ZHH/lib/python3.7/site-packages/torch/nn/modules/module.py\", line 547, in __call__\n",
      "    result = self.forward(*input, **kwargs)\n",
      "  File \"/nobackup/users/dcao2028/anaconda3/envs/ZHH/lib/python3.7/site-packages/transformers/models/llama/modeling_llama.py\", line 306, in forward\n",
      "    use_cache=use_cache,\n",
      "  File \"/nobackup/users/dcao2028/anaconda3/envs/ZHH/lib/python3.7/site-packages/torch/nn/modules/module.py\", line 547, in __call__\n",
      "    result = self.forward(*input, **kwargs)\n",
      "KeyboardInterrupt\n"
     ]
    }
   ],
   "source": [
    "!make eval_transformer_sanity"
   ]
  },
  {
   "cell_type": "code",
   "execution_count": null,
   "metadata": {},
   "outputs": [],
   "source": []
  }
 ],
 "metadata": {
  "kernelspec": {
   "display_name": "Python 3 (ipykernel)",
   "language": "python",
   "name": "python3"
  },
  "language_info": {
   "codemirror_mode": {
    "name": "ipython",
    "version": 3
   },
   "file_extension": ".py",
   "mimetype": "text/x-python",
   "name": "python",
   "nbconvert_exporter": "python",
   "pygments_lexer": "ipython3",
   "version": "3.7.6"
  }
 },
 "nbformat": 4,
 "nbformat_minor": 2
}
