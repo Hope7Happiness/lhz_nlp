{
 "cells": [
  {
   "cell_type": "code",
   "execution_count": 1,
   "metadata": {},
   "outputs": [
    {
     "name": "stdout",
     "output_type": "stream",
     "text": [
      "Fri Nov 15 20:25:53 2024       \n",
      "+---------------------------------------------------------------------------------------+\n",
      "| NVIDIA-SMI 535.86.10              Driver Version: 535.86.10    CUDA Version: 12.2     |\n",
      "|-----------------------------------------+----------------------+----------------------+\n",
      "| GPU  Name                 Persistence-M | Bus-Id        Disp.A | Volatile Uncorr. ECC |\n",
      "| Fan  Temp   Perf          Pwr:Usage/Cap |         Memory-Usage | GPU-Util  Compute M. |\n",
      "|                                         |                      |               MIG M. |\n",
      "|=========================================+======================+======================|\n",
      "|   0  Tesla V100-SXM2-32GB           On  | 00000004:04:00.0 Off |                    0 |\n",
      "| N/A   39C    P0              39W / 184W |      0MiB / 32768MiB |      0%      Default |\n",
      "|                                         |                      |                  N/A |\n",
      "+-----------------------------------------+----------------------+----------------------+\n",
      "|   1  Tesla V100-SXM2-32GB           On  | 00000004:05:00.0 Off |                    0 |\n",
      "| N/A   41C    P0              39W / 184W |      0MiB / 32768MiB |      0%      Default |\n",
      "|                                         |                      |                  N/A |\n",
      "+-----------------------------------------+----------------------+----------------------+\n",
      "|   2  Tesla V100-SXM2-32GB           On  | 00000035:03:00.0 Off |                    0 |\n",
      "| N/A   40C    P0              41W / 184W |      5MiB / 32768MiB |      0%      Default |\n",
      "|                                         |                      |                  N/A |\n",
      "+-----------------------------------------+----------------------+----------------------+\n",
      "|   3  Tesla V100-SXM2-32GB           On  | 00000035:04:00.0 Off |                    0 |\n",
      "| N/A   42C    P0              40W / 184W |      2MiB / 32768MiB |      0%      Default |\n",
      "|                                         |                      |                  N/A |\n",
      "+-----------------------------------------+----------------------+----------------------+\n",
      "                                                                                         \n",
      "+---------------------------------------------------------------------------------------+\n",
      "| Processes:                                                                            |\n",
      "|  GPU   GI   CI        PID   Type   Process name                            GPU Memory |\n",
      "|        ID   ID                                                             Usage      |\n",
      "|=======================================================================================|\n",
      "|  No running processes found                                                           |\n",
      "+---------------------------------------------------------------------------------------+\n"
     ]
    }
   ],
   "source": [
    "!nvidia-smi"
   ]
  },
  {
   "cell_type": "code",
   "execution_count": 2,
   "metadata": {},
   "outputs": [
    {
     "name": "stdout",
     "output_type": "stream",
     "text": [
      "Last modified: output_rnn_0.5_5000000\n"
     ]
    },
    {
     "ename": "Exception",
     "evalue": "Last modified time: 2024-11-15 20:21:35, current time: 2024-11-15 20:26:09.197026",
     "output_type": "error",
     "traceback": [
      "\u001b[0;31m---------------------------------------------------------------------------\u001b[0m",
      "\u001b[0;31mException\u001b[0m                                 Traceback (most recent call last)",
      "\u001b[0;32m/tmp/ipykernel_507679/4216412530.py\u001b[0m in \u001b[0;36m<module>\u001b[0;34m\u001b[0m\n\u001b[1;32m     14\u001b[0m \u001b[0mtime_diff\u001b[0m \u001b[0;34m=\u001b[0m \u001b[0mcurrent_time\u001b[0m \u001b[0;34m-\u001b[0m \u001b[0mlast_modified_time\u001b[0m\u001b[0;34m\u001b[0m\u001b[0;34m\u001b[0m\u001b[0m\n\u001b[1;32m     15\u001b[0m \u001b[0;32mif\u001b[0m \u001b[0mtime_diff\u001b[0m\u001b[0;34m.\u001b[0m\u001b[0mseconds\u001b[0m \u001b[0;34m/\u001b[0m \u001b[0;36m60\u001b[0m \u001b[0;34m>\u001b[0m \u001b[0;36m1\u001b[0m\u001b[0;34m:\u001b[0m\u001b[0;34m\u001b[0m\u001b[0;34m\u001b[0m\u001b[0m\n\u001b[0;32m---> 16\u001b[0;31m     \u001b[0;32mraise\u001b[0m \u001b[0mException\u001b[0m\u001b[0;34m(\u001b[0m\u001b[0;34mf\"Last modified time: {last_modified_time}, current time: {current_time}\"\u001b[0m\u001b[0;34m)\u001b[0m\u001b[0;34m\u001b[0m\u001b[0;34m\u001b[0m\u001b[0m\n\u001b[0m",
      "\u001b[0;31mException\u001b[0m: Last modified time: 2024-11-15 20:21:35, current time: 2024-11-15 20:26:09.197026"
     ]
    }
   ],
   "source": [
    "# check the last modified time of os.listdir('.)\n",
    "import os\n",
    "import time\n",
    "times = []\n",
    "for file in os.listdir('.'):\n",
    "    times.append((file, time.ctime(os.path.getmtime(file))))\n",
    "last_modified = max(times, key=lambda x: x[1])\n",
    "print('Last modified:', last_modified[0])\n",
    "\n",
    "# check whether the last modified time is within the last 1 minutes\n",
    "from datetime import datetime\n",
    "last_modified_time = datetime.strptime(last_modified[1], \"%a %b %d %H:%M:%S %Y\")\n",
    "current_time = datetime.now()\n",
    "time_diff = current_time - last_modified_time\n",
    "if time_diff.seconds / 60 > 1:\n",
    "    raise Exception(f\"Last modified time: {last_modified_time}, current time: {current_time}\")"
   ]
  },
  {
   "cell_type": "markdown",
   "metadata": {},
   "source": [
    "# Gen data"
   ]
  },
  {
   "cell_type": "code",
   "execution_count": 3,
   "metadata": {},
   "outputs": [
    {
     "ename": "AssertionError",
     "evalue": "",
     "output_type": "error",
     "traceback": [
      "\u001b[0;31m---------------------------------------------------------------------------\u001b[0m",
      "\u001b[0;31mAssertionError\u001b[0m                            Traceback (most recent call last)",
      "\u001b[0;32m/tmp/ipykernel_507679/2103537015.py\u001b[0m in \u001b[0;36m<module>\u001b[0;34m\u001b[0m\n\u001b[0;32m----> 1\u001b[0;31m \u001b[0;32massert\u001b[0m \u001b[0;32mFalse\u001b[0m\u001b[0;34m\u001b[0m\u001b[0;34m\u001b[0m\u001b[0m\n\u001b[0m",
      "\u001b[0;31mAssertionError\u001b[0m: "
     ]
    }
   ],
   "source": [
    "assert False"
   ]
  },
  {
   "cell_type": "code",
   "execution_count": 11,
   "metadata": {},
   "outputs": [
    {
     "name": "stdout",
     "output_type": "stream",
     "text": [
      "bash gen.sh\n",
      "100%|███████████████████████████████| 1000000/1000000 [02:55<00:00, 5694.92it/s]\n",
      "100%|███████████████████████████████| 1000000/1000000 [13:23<00:00, 1245.10it/s]\n",
      "100%|███████████████████████████████| 1000000/1000000 [03:16<00:00, 5088.34it/s]\n",
      "100%|█████████████████████████████████████| 5000/5000 [00:01<00:00, 4343.17it/s]\n",
      "100%|█████████████████████████████████████| 5000/5000 [00:04<00:00, 1247.48it/s]\n",
      "100%|█████████████████████████████████████| 5000/5000 [00:00<00:00, 5031.79it/s]\n"
     ]
    }
   ],
   "source": [
    "!make gen"
   ]
  },
  {
   "cell_type": "markdown",
   "metadata": {},
   "source": [
    "# Run RNN"
   ]
  },
  {
   "cell_type": "code",
   "execution_count": null,
   "metadata": {},
   "outputs": [
    {
     "name": "stdout",
     "output_type": "stream",
     "text": [
      "bash train.sh rnn 0.5 5000000 0.0003 64\n",
      "model_type: rnn\n",
      "dataset_dir: ./data/rnn/cot_binary_32_1000000_right\n",
      "output_dir: ./output_rnn_0.5_5000000\n",
      "model_config_path: ./configs/0.5m_transformer.json\n",
      "batch_size: 64\n",
      "total_training_samples: 5000000\n",
      "lr: 0.0003\n",
      "None\n",
      "torch.Size([56, 64])\n",
      "Parameters: 0.26M\n",
      "model is: MambaLMHeadModel(\n",
      "  (backbone): MixerModel(\n",
      "    (embedding): Embedding(56, 64)\n",
      "    (layers): ModuleList(\n",
      "      (0): Block(\n",
      "        (norm): RMSNorm()\n",
      "        (mixer): Mamba(\n",
      "          (in_proj): Linear(in_features=64, out_features=256, bias=False)\n",
      "          (conv1d): Conv1d(128, 128, kernel_size=(4,), stride=(1,), padding=(3,), groups=128)\n",
      "          (act): SiLU()\n",
      "          (x_proj): Linear(in_features=128, out_features=36, bias=False)\n",
      "          (dt_proj): Linear(in_features=4, out_features=128, bias=True)\n",
      "          (out_proj): Linear(in_features=128, out_features=64, bias=False)\n",
      "        )\n",
      "      )\n",
      "      (1): Block(\n",
      "        (norm): RMSNorm()\n",
      "        (mixer): Mamba(\n",
      "          (in_proj): Linear(in_features=64, out_features=256, bias=False)\n",
      "          (conv1d): Conv1d(128, 128, kernel_size=(4,), stride=(1,), padding=(3,), groups=128)\n",
      "          (act): SiLU()\n",
      "          (x_proj): Linear(in_features=128, out_features=36, bias=False)\n",
      "          (dt_proj): Linear(in_features=4, out_features=128, bias=True)\n",
      "          (out_proj): Linear(in_features=128, out_features=64, bias=False)\n",
      "        )\n",
      "      )\n",
      "      (2): Block(\n",
      "        (norm): RMSNorm()\n",
      "        (mixer): Mamba(\n",
      "          (in_proj): Linear(in_features=64, out_features=256, bias=False)\n",
      "          (conv1d): Conv1d(128, 128, kernel_size=(4,), stride=(1,), padding=(3,), groups=128)\n",
      "          (act): SiLU()\n",
      "          (x_proj): Linear(in_features=128, out_features=36, bias=False)\n",
      "          (dt_proj): Linear(in_features=4, out_features=128, bias=True)\n",
      "          (out_proj): Linear(in_features=128, out_features=64, bias=False)\n",
      "        )\n",
      "      )\n",
      "      (3): Block(\n",
      "        (norm): RMSNorm()\n",
      "        (mixer): Mamba(\n",
      "          (in_proj): Linear(in_features=64, out_features=256, bias=False)\n",
      "          (conv1d): Conv1d(128, 128, kernel_size=(4,), stride=(1,), padding=(3,), groups=128)\n",
      "          (act): SiLU()\n",
      "          (x_proj): Linear(in_features=128, out_features=36, bias=False)\n",
      "          (dt_proj): Linear(in_features=4, out_features=128, bias=True)\n",
      "          (out_proj): Linear(in_features=128, out_features=64, bias=False)\n",
      "        )\n",
      "      )\n",
      "      (4): Block(\n",
      "        (norm): RMSNorm()\n",
      "        (mixer): Mamba(\n",
      "          (in_proj): Linear(in_features=64, out_features=256, bias=False)\n",
      "          (conv1d): Conv1d(128, 128, kernel_size=(4,), stride=(1,), padding=(3,), groups=128)\n",
      "          (act): SiLU()\n",
      "          (x_proj): Linear(in_features=128, out_features=36, bias=False)\n",
      "          (dt_proj): Linear(in_features=4, out_features=128, bias=True)\n",
      "          (out_proj): Linear(in_features=128, out_features=64, bias=False)\n",
      "        )\n",
      "      )\n",
      "      (5): Block(\n",
      "        (norm): RMSNorm()\n",
      "        (mixer): Mamba(\n",
      "          (in_proj): Linear(in_features=64, out_features=256, bias=False)\n",
      "          (conv1d): Conv1d(128, 128, kernel_size=(4,), stride=(1,), padding=(3,), groups=128)\n",
      "          (act): SiLU()\n",
      "          (x_proj): Linear(in_features=128, out_features=36, bias=False)\n",
      "          (dt_proj): Linear(in_features=4, out_features=128, bias=True)\n",
      "          (out_proj): Linear(in_features=128, out_features=64, bias=False)\n",
      "        )\n",
      "      )\n",
      "      (6): Block(\n",
      "        (norm): RMSNorm()\n",
      "        (mixer): Mamba(\n",
      "          (in_proj): Linear(in_features=64, out_features=256, bias=False)\n",
      "          (conv1d): Conv1d(128, 128, kernel_size=(4,), stride=(1,), padding=(3,), groups=128)\n",
      "          (act): SiLU()\n",
      "          (x_proj): Linear(in_features=128, out_features=36, bias=False)\n",
      "          (dt_proj): Linear(in_features=4, out_features=128, bias=True)\n",
      "          (out_proj): Linear(in_features=128, out_features=64, bias=False)\n",
      "        )\n",
      "      )\n",
      "      (7): Block(\n",
      "        (norm): RMSNorm()\n",
      "        (mixer): Mamba(\n",
      "          (in_proj): Linear(in_features=64, out_features=256, bias=False)\n",
      "          (conv1d): Conv1d(128, 128, kernel_size=(4,), stride=(1,), padding=(3,), groups=128)\n",
      "          (act): SiLU()\n",
      "          (x_proj): Linear(in_features=128, out_features=36, bias=False)\n",
      "          (dt_proj): Linear(in_features=4, out_features=128, bias=True)\n",
      "          (out_proj): Linear(in_features=128, out_features=64, bias=False)\n",
      "        )\n",
      "      )\n",
      "    )\n",
      "    (norm_f): RMSNorm()\n",
      "  )\n",
      "  (lm_head): Linear(in_features=64, out_features=56, bias=False)\n",
      ")\n",
      "  0%|                                                    | 0/79 [00:00<?, ?it/s]/nobackup/users/zhh24/anaconda3/envs/DYY/lib/python3.7/site-packages/torch/nn/functional.py:1350: UserWarning: nn.functional.sigmoid is deprecated. Use torch.sigmoid instead.\n",
      "  warnings.warn(\"nn.functional.sigmoid is deprecated. Use torch.sigmoid instead.\")\n",
      "100%|███████████████████████████████████████████| 79/79 [00:22<00:00,  3.47it/s]\n",
      "Initial | val loss: 16.00106414360336 | val acc: 0.0\n",
      "start training\n",
      "  0%|                                                 | 0/78125 [00:00<?, ?it/s]\n",
      "  0%|                                                    | 0/79 [00:00<?, ?it/s]\u001b[A\n",
      "  1%|▌                                           | 1/79 [00:00<00:22,  3.46it/s]\u001b[A\n",
      "  3%|█                                           | 2/79 [00:00<00:22,  3.46it/s]\u001b[A\n",
      "  4%|█▋                                          | 3/79 [00:00<00:21,  3.46it/s]\u001b[A\n",
      "  5%|██▏                                         | 4/79 [00:01<00:21,  3.46it/s]\u001b[A\n",
      "  6%|██▊                                         | 5/79 [00:01<00:21,  3.46it/s]\u001b[A\n",
      "  8%|███▎                                        | 6/79 [00:01<00:21,  3.46it/s]\u001b[A\n",
      "  9%|███▉                                        | 7/79 [00:02<00:20,  3.45it/s]\u001b[A\n",
      " 10%|████▍                                       | 8/79 [00:02<00:20,  3.45it/s]\u001b[A\n",
      " 11%|█████                                       | 9/79 [00:02<00:20,  3.45it/s]\u001b[A\n",
      " 13%|█████▍                                     | 10/79 [00:02<00:19,  3.46it/s]\u001b[A\n",
      " 14%|█████▉                                     | 11/79 [00:03<00:19,  3.46it/s]\u001b[A\n",
      " 15%|██████▌                                    | 12/79 [00:03<00:19,  3.46it/s]\u001b[A\n",
      " 16%|███████                                    | 13/79 [00:03<00:19,  3.46it/s]\u001b[A\n",
      " 18%|███████▌                                   | 14/79 [00:04<00:18,  3.46it/s]\u001b[A\n",
      " 19%|████████▏                                  | 15/79 [00:04<00:18,  3.46it/s]\u001b[A\n",
      " 20%|████████▋                                  | 16/79 [00:04<00:18,  3.46it/s]\u001b[A\n",
      " 22%|█████████▎                                 | 17/79 [00:04<00:17,  3.46it/s]\u001b[A\n",
      " 23%|█████████▊                                 | 18/79 [00:05<00:17,  3.46it/s]\u001b[A\n",
      " 24%|██████████▎                                | 19/79 [00:05<00:17,  3.46it/s]\u001b[A\n",
      " 25%|██████████▉                                | 20/79 [00:05<00:17,  3.46it/s]\u001b[A\n",
      " 27%|███████████▍                               | 21/79 [00:06<00:16,  3.46it/s]\u001b[A\n",
      " 28%|███████████▉                               | 22/79 [00:06<00:16,  3.46it/s]\u001b[A\n",
      " 29%|████████████▌                              | 23/79 [00:06<00:16,  3.46it/s]\u001b[A\n",
      " 30%|█████████████                              | 24/79 [00:06<00:15,  3.45it/s]\u001b[A\n",
      " 32%|█████████████▌                             | 25/79 [00:07<00:15,  3.46it/s]\u001b[A\n",
      " 33%|██████████████▏                            | 26/79 [00:07<00:15,  3.46it/s]\u001b[A\n",
      " 34%|██████████████▋                            | 27/79 [00:07<00:15,  3.46it/s]\u001b[A\n",
      " 35%|███████████████▏                           | 28/79 [00:08<00:14,  3.46it/s]\u001b[A\n",
      " 37%|███████████████▊                           | 29/79 [00:08<00:14,  3.46it/s]\u001b[A\n",
      " 38%|████████████████▎                          | 30/79 [00:08<00:14,  3.45it/s]\u001b[A\n",
      " 39%|████████████████▊                          | 31/79 [00:08<00:13,  3.45it/s]\u001b[A\n",
      " 41%|█████████████████▍                         | 32/79 [00:09<00:13,  3.45it/s]\u001b[A\n",
      " 42%|█████████████████▉                         | 33/79 [00:09<00:13,  3.45it/s]\u001b[A\n",
      " 43%|██████████████████▌                        | 34/79 [00:09<00:13,  3.45it/s]\u001b[A\n",
      " 44%|███████████████████                        | 35/79 [00:10<00:12,  3.46it/s]\u001b[A\n",
      " 46%|███████████████████▌                       | 36/79 [00:10<00:12,  3.47it/s]\u001b[A\n",
      " 47%|████████████████████▏                      | 37/79 [00:10<00:12,  3.47it/s]\u001b[A\n",
      " 48%|████████████████████▋                      | 38/79 [00:10<00:11,  3.47it/s]\u001b[A\n",
      " 49%|█████████████████████▏                     | 39/79 [00:11<00:11,  3.48it/s]\u001b[A\n",
      " 51%|█████████████████████▊                     | 40/79 [00:11<00:11,  3.48it/s]\u001b[A\n",
      " 52%|██████████████████████▎                    | 41/79 [00:11<00:10,  3.47it/s]\u001b[A\n",
      " 53%|██████████████████████▊                    | 42/79 [00:12<00:10,  3.47it/s]\u001b[A\n",
      " 54%|███████████████████████▍                   | 43/79 [00:12<00:10,  3.47it/s]\u001b[A\n",
      " 56%|███████████████████████▉                   | 44/79 [00:12<00:10,  3.47it/s]\u001b[A\n",
      " 57%|████████████████████████▍                  | 45/79 [00:13<00:09,  3.47it/s]\u001b[A\n",
      " 58%|█████████████████████████                  | 46/79 [00:13<00:09,  3.47it/s]\u001b[A\n",
      " 59%|█████████████████████████▌                 | 47/79 [00:13<00:09,  3.48it/s]\u001b[A\n",
      " 61%|██████████████████████████▏                | 48/79 [00:13<00:08,  3.48it/s]\u001b[A\n",
      " 62%|██████████████████████████▋                | 49/79 [00:14<00:08,  3.48it/s]\u001b[A\n",
      " 63%|███████████████████████████▏               | 50/79 [00:14<00:08,  3.48it/s]\u001b[A\n",
      " 65%|███████████████████████████▊               | 51/79 [00:14<00:08,  3.48it/s]\u001b[A\n",
      " 66%|████████████████████████████▎              | 52/79 [00:15<00:07,  3.48it/s]\u001b[A\n",
      " 67%|████████████████████████████▊              | 53/79 [00:15<00:07,  3.48it/s]\u001b[A\n",
      " 68%|█████████████████████████████▍             | 54/79 [00:15<00:07,  3.48it/s]\u001b[A\n",
      " 70%|█████████████████████████████▉             | 55/79 [00:15<00:06,  3.48it/s]\u001b[A\n",
      " 71%|██████████████████████████████▍            | 56/79 [00:16<00:06,  3.48it/s]\u001b[A\n",
      " 72%|███████████████████████████████            | 57/79 [00:16<00:06,  3.48it/s]\u001b[A\n",
      " 73%|███████████████████████████████▌           | 58/79 [00:16<00:06,  3.48it/s]\u001b[A\n",
      " 75%|████████████████████████████████           | 59/79 [00:17<00:05,  3.47it/s]\u001b[A\n",
      " 76%|████████████████████████████████▋          | 60/79 [00:17<00:05,  3.48it/s]\u001b[A\n",
      " 77%|█████████████████████████████████▏         | 61/79 [00:17<00:05,  3.48it/s]\u001b[A\n",
      " 78%|█████████████████████████████████▋         | 62/79 [00:17<00:04,  3.48it/s]\u001b[A\n",
      " 80%|██████████████████████████████████▎        | 63/79 [00:18<00:04,  3.48it/s]\u001b[A\n",
      " 81%|██████████████████████████████████▊        | 64/79 [00:18<00:04,  3.48it/s]\u001b[A\n",
      " 82%|███████████████████████████████████▍       | 65/79 [00:18<00:04,  3.47it/s]\u001b[A\n",
      " 84%|███████████████████████████████████▉       | 66/79 [00:19<00:03,  3.48it/s]\u001b[A\n",
      " 85%|████████████████████████████████████▍      | 67/79 [00:19<00:03,  3.48it/s]\u001b[A\n",
      " 86%|█████████████████████████████████████      | 68/79 [00:19<00:03,  3.48it/s]\u001b[A\n",
      " 87%|█████████████████████████████████████▌     | 69/79 [00:19<00:02,  3.48it/s]\u001b[A\n",
      " 89%|██████████████████████████████████████     | 70/79 [00:20<00:02,  3.48it/s]\u001b[A\n",
      " 90%|██████████████████████████████████████▋    | 71/79 [00:20<00:02,  3.48it/s]\u001b[A\n",
      " 91%|███████████████████████████████████████▏   | 72/79 [00:20<00:02,  3.48it/s]\u001b[A\n",
      " 92%|███████████████████████████████████████▋   | 73/79 [00:21<00:01,  3.48it/s]\u001b[A\n",
      " 94%|████████████████████████████████████████▎  | 74/79 [00:21<00:01,  3.48it/s]\u001b[A\n",
      " 95%|████████████████████████████████████████▊  | 75/79 [00:21<00:01,  3.48it/s]\u001b[A\n",
      " 96%|█████████████████████████████████████████▎ | 76/79 [00:21<00:00,  3.48it/s]\u001b[A\n",
      " 97%|█████████████████████████████████████████▉ | 77/79 [00:22<00:00,  3.47it/s]\u001b[A\n",
      " 99%|██████████████████████████████████████████▍| 78/79 [00:22<00:00,  3.47it/s]\u001b[A\n",
      "100%|███████████████████████████████████████████| 79/79 [00:22<00:00,  3.47it/s]\u001b[A\n",
      "Step 0 | Samples 0 | Train acc: 0.0 | Val loss: 16.00106414360336 | Val acc: 0.0 | learning rate: 1.923076923076923e-06\n",
      "  0%|                                     | 30/78125 [02:00<70:45:12,  3.26s/it]"
     ]
    }
   ],
   "source": [
    "!make train_all_rnn"
   ]
  },
  {
   "cell_type": "code",
   "execution_count": 14,
   "metadata": {},
   "outputs": [
    {
     "name": "stdout",
     "output_type": "stream",
     "text": [
      "/nobackup/users/zhh24/anaconda3/envs/DYY/bin/python\n"
     ]
    }
   ],
   "source": [
    "!which python"
   ]
  },
  {
   "cell_type": "code",
   "execution_count": null,
   "metadata": {},
   "outputs": [],
   "source": []
  }
 ],
 "metadata": {
  "kernelspec": {
   "display_name": "Python 3 (ipykernel)",
   "language": "python",
   "name": "python3"
  },
  "language_info": {
   "codemirror_mode": {
    "name": "ipython",
    "version": 3
   },
   "file_extension": ".py",
   "mimetype": "text/x-python",
   "name": "python",
   "nbconvert_exporter": "python",
   "pygments_lexer": "ipython3",
   "version": "3.7.6"
  }
 },
 "nbformat": 4,
 "nbformat_minor": 2
}
